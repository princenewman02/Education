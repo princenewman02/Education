{
 "cells": [
  {
   "cell_type": "markdown",
   "id": "b5c6be3c-7eef-4f0a-92c0-6f436779afc6",
   "metadata": {},
   "source": [
    "# Load and explore the data"
   ]
  },
  {
   "cell_type": "markdown",
   "id": "a9bc0cdf-ca94-45e8-8c6a-f2e729ef9dad",
   "metadata": {},
   "source": [
    "## Import libraries"
   ]
  },
  {
   "cell_type": "code",
   "execution_count": 1,
   "id": "393f2ac2-3d97-4457-a30d-f6cfecce894e",
   "metadata": {},
   "outputs": [],
   "source": [
    "# Import pandas, numpy, and matplotlib\n",
    "import pandas as pd\n",
    "import numpy as np\n",
    "import matplotlib.pyplot as plt\n",
    "\n",
    "# seaborn is a data visualization library built on matplotlib\n",
    "import seaborn as sns\n",
    "\n",
    "# set the plotting style\n",
    "sns.set_style(\"whitegrid\")"
   ]
  },
  {
   "cell_type": "markdown",
   "id": "be04c54c-dcbf-4a49-b50e-d3b875b96cab",
   "metadata": {},
   "source": [
    "## Load Data Set"
   ]
  },
  {
   "cell_type": "markdown",
   "id": "aa32f758-9a1a-4df9-8210-d506dea2fdeb",
   "metadata": {},
   "source": [
    "#### Load the EdGap Data Set"
   ]
  },
  {
   "cell_type": "code",
   "execution_count": null,
   "id": "39730fef-7bb1-4e08-be8a-990e4914bed1",
   "metadata": {},
   "outputs": [],
   "source": [
    "edgap = pd.read_excel('')"
   ]
  }
 ],
 "metadata": {
  "kernelspec": {
   "display_name": "Python 3 (ipykernel)",
   "language": "python",
   "name": "python3"
  },
  "language_info": {
   "codemirror_mode": {
    "name": "ipython",
    "version": 3
   },
   "file_extension": ".py",
   "mimetype": "text/x-python",
   "name": "python",
   "nbconvert_exporter": "python",
   "pygments_lexer": "ipython3",
   "version": "3.13.5"
  }
 },
 "nbformat": 4,
 "nbformat_minor": 5
}
